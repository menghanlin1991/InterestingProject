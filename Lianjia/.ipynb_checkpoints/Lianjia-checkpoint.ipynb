{
 "cells": [
  {
   "cell_type": "code",
   "execution_count": 450,
   "metadata": {},
   "outputs": [],
   "source": [
    "import numpy as np\n",
    "import pandas as pd\n",
    "import requests\n",
    "import uuid\n",
    "from fake_useragent import UserAgent\n",
    "from bs4 import BeautifulSoup\n",
    "import re\n",
    "import time\n",
    "import seaborn as sns\n",
    "import matplotlib.pyplot as plt"
   ]
  },
  {
   "cell_type": "code",
   "execution_count": 2,
   "metadata": {},
   "outputs": [],
   "source": [
    "def get_uuid():\n",
    "    return str(uuid.uuid4())"
   ]
  },
  {
   "cell_type": "code",
   "execution_count": 359,
   "metadata": {},
   "outputs": [],
   "source": [
    "class Spider():\n",
    "    def __init__(self, name):\n",
    "        self.name = name\n",
    "    def spider(self, url = 'https://bj.lianjia.com/ershoufang/pg3rs%E9%9C%8D%E8%90%A5/', proxies_flag = True):\n",
    "        ua_info = UserAgent()\n",
    "        cookie_info = 'JSESSIONID=' + get_uuid() + ';' + \\\n",
    "        'user_trace_token=' + get_uuid() + '; LGUID=' + get_uuid() + '; index_location_city=%E6%88%90%E9%83%BD;' + \\\n",
    "        'SEARCH_ID=' + get_uuid() + '; _gid=GA1.2.717841549.1514043316;' +  \\\n",
    "        '_ga=GA1.2.952298646.1514043316;'\\\n",
    "        'LGSID=' + get_uuid() + ';' +  \\\n",
    "        'LGRID=' + get_uuid() + ';'\n",
    "        headers_info = {'cookie': cookie_info,\\\n",
    "               'user-agent': ua_info.random,\\\n",
    "               'Host':'bj.lianjia.com'}\n",
    "        proxies_info = {'http':'http://10.240.49.201:8080',\\\n",
    "            'https':'https://10.240.49.201:8080'}\n",
    "        try:\n",
    "            s = requests.Session()\n",
    "            if proxies_flag:\n",
    "                response = s.get(url, headers=headers_info, proxies = proxies_info)\n",
    "            else:\n",
    "                response = s.get(url, headers=headers_info)\n",
    "            if (response.status_code == 200):\n",
    "                soup = BeautifulSoup(response.content, 'html.parser')\n",
    "            else:\n",
    "                soup = None\n",
    "            return soup\n",
    "        except Exception as e:\n",
    "            print(e)\n",
    "    def get_house_id(self, pn = 5, url = 'https://bj.lianjia.com/ershoufang/rs%E9%9C%8D%E8%90%A5/'):\n",
    "        id_list = []\n",
    "        for loop in range(1, pn+1):\n",
    "            #print(loop)\n",
    "            if loop == 1:\n",
    "                url_info = url\n",
    "            else:\n",
    "                url_part1 = re.findall('(.*ershoufang/).*', url)[0]\n",
    "                url_part2 = 'pg' + str(loop)\n",
    "                url_part3 = re.findall('.*(rs.*)', url)[0]\n",
    "                url_info = url_part1 + url_part2 + url_part3\n",
    "            soup = self.spider(url = url_info)\n",
    "            id_list_base = str(soup.find_all('div', attrs={'class':'info clear'}))\n",
    "            reg = re.compile('href.*?/(\\d*?).html')\n",
    "            id_list.extend(re.findall(reg, id_list_base))\n",
    "        return id_list"
   ]
  },
  {
   "cell_type": "code",
   "execution_count": 360,
   "metadata": {},
   "outputs": [],
   "source": [
    "lianjia_spider = Spider('lianjia')"
   ]
  },
  {
   "cell_type": "code",
   "execution_count": 303,
   "metadata": {},
   "outputs": [],
   "source": [
    "#id_list = lianjia_spider.get_house_id(pn=9)"
   ]
  },
  {
   "cell_type": "code",
   "execution_count": 104,
   "metadata": {},
   "outputs": [],
   "source": [
    "def build_data(id_list):\n",
    "    data = pd.DataFrame()\n",
    "    for loop in range(len(id_list)):\n",
    "        data.loc[loop, 'id'] = id_list[loop]\n",
    "    return data"
   ]
  },
  {
   "cell_type": "code",
   "execution_count": 105,
   "metadata": {},
   "outputs": [],
   "source": [
    "data = build_data(id_list)"
   ]
  },
  {
   "cell_type": "code",
   "execution_count": 107,
   "metadata": {},
   "outputs": [
    {
     "data": {
      "text/html": [
       "<div>\n",
       "<style scoped>\n",
       "    .dataframe tbody tr th:only-of-type {\n",
       "        vertical-align: middle;\n",
       "    }\n",
       "\n",
       "    .dataframe tbody tr th {\n",
       "        vertical-align: top;\n",
       "    }\n",
       "\n",
       "    .dataframe thead th {\n",
       "        text-align: right;\n",
       "    }\n",
       "</style>\n",
       "<table border=\"1\" class=\"dataframe\">\n",
       "  <thead>\n",
       "    <tr style=\"text-align: right;\">\n",
       "      <th></th>\n",
       "      <th>id</th>\n",
       "    </tr>\n",
       "  </thead>\n",
       "  <tbody>\n",
       "    <tr>\n",
       "      <th>0</th>\n",
       "      <td>101102874856</td>\n",
       "    </tr>\n",
       "    <tr>\n",
       "      <th>1</th>\n",
       "      <td>101102828901</td>\n",
       "    </tr>\n",
       "    <tr>\n",
       "      <th>2</th>\n",
       "      <td>101102882210</td>\n",
       "    </tr>\n",
       "    <tr>\n",
       "      <th>3</th>\n",
       "      <td>101102879591</td>\n",
       "    </tr>\n",
       "    <tr>\n",
       "      <th>4</th>\n",
       "      <td>101102874184</td>\n",
       "    </tr>\n",
       "  </tbody>\n",
       "</table>\n",
       "</div>"
      ],
      "text/plain": [
       "             id\n",
       "0  101102874856\n",
       "1  101102828901\n",
       "2  101102882210\n",
       "3  101102879591\n",
       "4  101102874184"
      ]
     },
     "execution_count": 107,
     "metadata": {},
     "output_type": "execute_result"
    }
   ],
   "source": [
    "data.head()"
   ]
  },
  {
   "cell_type": "code",
   "execution_count": 157,
   "metadata": {},
   "outputs": [],
   "source": [
    "data.to_csv('data.csv')"
   ]
  },
  {
   "cell_type": "code",
   "execution_count": 361,
   "metadata": {},
   "outputs": [],
   "source": [
    "def get_house_info(data, begin_index = 0, end_index = 1):\n",
    "    try:\n",
    "        for loop in range(begin_index, end_index):\n",
    "            print(data.loc[loop, 'id'])\n",
    "            url_info = 'https://bj.lianjia.com/ershoufang/%s.html' %(data.loc[loop, 'id'])\n",
    "            soup = lianjia_spider.spider(url = url_info)\n",
    "            #print(soup)\n",
    "            if (soup != None):\n",
    "                data.loc[loop, 'SimpleDescription'] = soup.select('.main')[0].text\n",
    "                data.loc[loop, 'HousePrice'] = soup.select('.total')[0].text\n",
    "                data.loc[loop, 'UnitPrice'] = soup.select('.unitPriceValue')[0].text\n",
    "                data.loc[loop, 'HouseType'] = soup.select('.mainInfo')[0].text\n",
    "                data.loc[loop, 'HouseDirection'] = soup.select('.mainInfo')[1].text\n",
    "                data.loc[loop, 'HouseArea'] = soup.select('.mainInfo')[2].text\n",
    "                data.loc[loop, 'HouseFloor'] = soup.select('.subInfo')[0].text\n",
    "                data.loc[loop, 'HouseAge'] = soup.select('.subInfo')[2].text\n",
    "                data.loc[loop, 'CommunityName'] = soup.select('.info')[0].text\n",
    "                data.loc[loop, 'FollowersCnt'] = soup.select('.count')[0].text\n",
    "                data.loc[loop, 'WatchersCnt'] = soup.select('.count')[1].text\n",
    "                data.loc[loop, 'HouseTransType'] = re.findall(r'交易权属</span><span>(.*?)</span>',str(soup.select('.content')).replace('\\n', ''))[0]\n",
    "                data.loc[loop, 'HouseTransAge'] = re.findall(r'房屋年限</span><span>(.*?)</span>',str(soup.select('.content')).replace('\\n', ''))[0]\n",
    "                sleep_random = np.random.randint(5,10)\n",
    "                time.sleep(sleep_random)\n",
    "            else:\n",
    "                pass\n",
    "        data.to_csv('data.csv', encoding=\"utf_8_sig\", index=False)\n",
    "    except Exception as e:\n",
    "        print('Someting wrong here', e)\n",
    "    return soup"
   ]
  },
  {
   "cell_type": "code",
   "execution_count": 301,
   "metadata": {},
   "outputs": [
    {
     "data": {
      "text/plain": [
       "(269, 14)"
      ]
     },
     "execution_count": 301,
     "metadata": {},
     "output_type": "execute_result"
    }
   ],
   "source": [
    "data.shape"
   ]
  },
  {
   "cell_type": "code",
   "execution_count": 362,
   "metadata": {},
   "outputs": [
    {
     "name": "stdout",
     "output_type": "stream",
     "text": [
      "101102249971\n",
      "101102243643\n",
      "101101695315\n",
      "101102707553\n",
      "101102689024\n",
      "101102065420\n",
      "101102705135\n",
      "101102749514\n",
      "101101871075\n",
      "101101870767\n",
      "101101872243\n",
      "101101990397\n",
      "101101926534\n",
      "101102652961\n",
      "101102451129\n",
      "101102867054\n",
      "101102823101\n",
      "101102528910\n",
      "101102758888\n",
      "101102170092\n",
      "101102435399\n",
      "101102876187\n",
      "101102249034\n",
      "101102844981\n",
      "101101953682\n",
      "101102655494\n",
      "101102643673\n",
      "101102902898\n",
      "101102889659\n",
      "101102819953\n",
      "101102824092\n",
      "101101088882\n",
      "101102217867\n",
      "101102582169\n",
      "101102855990\n",
      "101102584560\n",
      "101101891571\n",
      "101101891682\n",
      "101102559002\n",
      "101102456292\n",
      "101102785500\n",
      "101102786900\n",
      "101102726001\n",
      "101102789181\n",
      "101102349914\n",
      "101102905839\n",
      "101102902849\n",
      "101102884413\n",
      "101102824658\n",
      "101102826992\n",
      "101102845723\n",
      "101102586859\n",
      "101102219458\n",
      "101102700260\n",
      "101102704866\n",
      "101102794987\n"
     ]
    }
   ],
   "source": [
    "soup = get_house_info(data, begin_index=213, end_index=269)"
   ]
  },
  {
   "cell_type": "code",
   "execution_count": 363,
   "metadata": {},
   "outputs": [
    {
     "data": {
      "text/html": [
       "<div>\n",
       "<style scoped>\n",
       "    .dataframe tbody tr th:only-of-type {\n",
       "        vertical-align: middle;\n",
       "    }\n",
       "\n",
       "    .dataframe tbody tr th {\n",
       "        vertical-align: top;\n",
       "    }\n",
       "\n",
       "    .dataframe thead th {\n",
       "        text-align: right;\n",
       "    }\n",
       "</style>\n",
       "<table border=\"1\" class=\"dataframe\">\n",
       "  <thead>\n",
       "    <tr style=\"text-align: right;\">\n",
       "      <th></th>\n",
       "      <th>id</th>\n",
       "      <th>SimpleDescription</th>\n",
       "      <th>HousePrice</th>\n",
       "      <th>UnitPrice</th>\n",
       "      <th>HouseType</th>\n",
       "      <th>HouseDirection</th>\n",
       "      <th>HouseArea</th>\n",
       "      <th>HouseFloor</th>\n",
       "      <th>HouseAge</th>\n",
       "      <th>CommunityName</th>\n",
       "      <th>FollowersCnt</th>\n",
       "      <th>WatchersCnt</th>\n",
       "      <th>HouseTransType</th>\n",
       "      <th>HouseTransAge</th>\n",
       "    </tr>\n",
       "  </thead>\n",
       "  <tbody>\n",
       "    <tr>\n",
       "      <th>213</th>\n",
       "      <td>101102249971</td>\n",
       "      <td>NaN</td>\n",
       "      <td>NaN</td>\n",
       "      <td>NaN</td>\n",
       "      <td>NaN</td>\n",
       "      <td>NaN</td>\n",
       "      <td>NaN</td>\n",
       "      <td>NaN</td>\n",
       "      <td>NaN</td>\n",
       "      <td>NaN</td>\n",
       "      <td>NaN</td>\n",
       "      <td>NaN</td>\n",
       "      <td>NaN</td>\n",
       "      <td>NaN</td>\n",
       "    </tr>\n",
       "  </tbody>\n",
       "</table>\n",
       "</div>"
      ],
      "text/plain": [
       "               id SimpleDescription HousePrice UnitPrice HouseType  \\\n",
       "213  101102249971               NaN        NaN       NaN       NaN   \n",
       "\n",
       "    HouseDirection HouseArea HouseFloor HouseAge CommunityName FollowersCnt  \\\n",
       "213            NaN       NaN        NaN      NaN           NaN          NaN   \n",
       "\n",
       "    WatchersCnt HouseTransType HouseTransAge  \n",
       "213         NaN            NaN           NaN  "
      ]
     },
     "execution_count": 363,
     "metadata": {},
     "output_type": "execute_result"
    }
   ],
   "source": [
    "data[data.id == '101102249971' ]"
   ]
  },
  {
   "cell_type": "code",
   "execution_count": 364,
   "metadata": {},
   "outputs": [],
   "source": [
    "data.to_csv('data.csv', encoding=\"utf_8_sig\", index=False)"
   ]
  },
  {
   "cell_type": "code",
   "execution_count": 366,
   "metadata": {},
   "outputs": [
    {
     "data": {
      "text/html": [
       "<div>\n",
       "<style scoped>\n",
       "    .dataframe tbody tr th:only-of-type {\n",
       "        vertical-align: middle;\n",
       "    }\n",
       "\n",
       "    .dataframe tbody tr th {\n",
       "        vertical-align: top;\n",
       "    }\n",
       "\n",
       "    .dataframe thead th {\n",
       "        text-align: right;\n",
       "    }\n",
       "</style>\n",
       "<table border=\"1\" class=\"dataframe\">\n",
       "  <thead>\n",
       "    <tr style=\"text-align: right;\">\n",
       "      <th></th>\n",
       "      <th>id</th>\n",
       "      <th>SimpleDescription</th>\n",
       "      <th>HousePrice</th>\n",
       "      <th>UnitPrice</th>\n",
       "      <th>HouseType</th>\n",
       "      <th>HouseDirection</th>\n",
       "      <th>HouseArea</th>\n",
       "      <th>HouseFloor</th>\n",
       "      <th>HouseAge</th>\n",
       "      <th>CommunityName</th>\n",
       "      <th>FollowersCnt</th>\n",
       "      <th>WatchersCnt</th>\n",
       "      <th>HouseTransType</th>\n",
       "      <th>HouseTransAge</th>\n",
       "    </tr>\n",
       "  </thead>\n",
       "  <tbody>\n",
       "    <tr>\n",
       "      <th>264</th>\n",
       "      <td>101102586859</td>\n",
       "      <td>商品房高原值三居室业主换房出售</td>\n",
       "      <td>560</td>\n",
       "      <td>44915元/平米</td>\n",
       "      <td>3室1厅</td>\n",
       "      <td>南 北</td>\n",
       "      <td>124.68平米</td>\n",
       "      <td>高楼层/共6层</td>\n",
       "      <td>2006年建/板楼</td>\n",
       "      <td>龙跃苑东二区</td>\n",
       "      <td>3</td>\n",
       "      <td>0</td>\n",
       "      <td>商品房</td>\n",
       "      <td>满两年</td>\n",
       "    </tr>\n",
       "    <tr>\n",
       "      <th>265</th>\n",
       "      <td>101102219458</td>\n",
       "      <td>商品房满两年 南北双通透 看房方便</td>\n",
       "      <td>500</td>\n",
       "      <td>40904元/平米</td>\n",
       "      <td>3室1厅</td>\n",
       "      <td>南 北</td>\n",
       "      <td>122.24平米</td>\n",
       "      <td>顶层/共6层</td>\n",
       "      <td>2006年建/板楼</td>\n",
       "      <td>龙跃苑东四区</td>\n",
       "      <td>25</td>\n",
       "      <td>0</td>\n",
       "      <td>商品房</td>\n",
       "      <td>满两年</td>\n",
       "    </tr>\n",
       "    <tr>\n",
       "      <th>266</th>\n",
       "      <td>101102700260</td>\n",
       "      <td>首开国风美唐一期 车位 32万</td>\n",
       "      <td>32</td>\n",
       "      <td>8139元/平米</td>\n",
       "      <td>车位</td>\n",
       "      <td>东</td>\n",
       "      <td>39.32平米</td>\n",
       "      <td>地下室</td>\n",
       "      <td>2012年建</td>\n",
       "      <td>首开国风美唐一期</td>\n",
       "      <td>1</td>\n",
       "      <td>0</td>\n",
       "      <td>商品房</td>\n",
       "      <td>未满两年</td>\n",
       "    </tr>\n",
       "    <tr>\n",
       "      <th>267</th>\n",
       "      <td>101102704866</td>\n",
       "      <td>国风美唐B1车位，电梯直接入户</td>\n",
       "      <td>28</td>\n",
       "      <td>8219元/平米</td>\n",
       "      <td>车位</td>\n",
       "      <td>北</td>\n",
       "      <td>34.07平米</td>\n",
       "      <td>地下室</td>\n",
       "      <td>2015年建</td>\n",
       "      <td>首开国风美唐二期</td>\n",
       "      <td>2</td>\n",
       "      <td>0</td>\n",
       "      <td>商品房</td>\n",
       "      <td>未满两年</td>\n",
       "    </tr>\n",
       "    <tr>\n",
       "      <th>268</th>\n",
       "      <td>101102794987</td>\n",
       "      <td>车位 诚心出售 位置好 单元楼下</td>\n",
       "      <td>27</td>\n",
       "      <td>7925元/平米</td>\n",
       "      <td>车位</td>\n",
       "      <td>东 南 西 北</td>\n",
       "      <td>34.07平米</td>\n",
       "      <td>地下室</td>\n",
       "      <td>2015年建</td>\n",
       "      <td>首开国风美唐二期</td>\n",
       "      <td>1</td>\n",
       "      <td>0</td>\n",
       "      <td>商品房</td>\n",
       "      <td>未满两年</td>\n",
       "    </tr>\n",
       "  </tbody>\n",
       "</table>\n",
       "</div>"
      ],
      "text/plain": [
       "               id  SimpleDescription HousePrice  UnitPrice HouseType  \\\n",
       "264  101102586859    商品房高原值三居室业主换房出售        560  44915元/平米      3室1厅   \n",
       "265  101102219458  商品房满两年 南北双通透 看房方便        500  40904元/平米      3室1厅   \n",
       "266  101102700260    首开国风美唐一期 车位 32万         32   8139元/平米        车位   \n",
       "267  101102704866    国风美唐B1车位，电梯直接入户         28   8219元/平米        车位   \n",
       "268  101102794987   车位 诚心出售 位置好 单元楼下         27   7925元/平米        车位   \n",
       "\n",
       "    HouseDirection HouseArea HouseFloor   HouseAge CommunityName FollowersCnt  \\\n",
       "264            南 北  124.68平米    高楼层/共6层  2006年建/板楼        龙跃苑东二区            3   \n",
       "265            南 北  122.24平米     顶层/共6层  2006年建/板楼        龙跃苑东四区           25   \n",
       "266              东   39.32平米        地下室     2012年建      首开国风美唐一期            1   \n",
       "267              北   34.07平米        地下室     2015年建      首开国风美唐二期            2   \n",
       "268        东 南 西 北   34.07平米        地下室     2015年建      首开国风美唐二期            1   \n",
       "\n",
       "    WatchersCnt HouseTransType HouseTransAge  \n",
       "264           0            商品房           满两年  \n",
       "265           0            商品房           满两年  \n",
       "266           0            商品房          未满两年  \n",
       "267           0            商品房          未满两年  \n",
       "268           0            商品房          未满两年  "
      ]
     },
     "execution_count": 366,
     "metadata": {},
     "output_type": "execute_result"
    }
   ],
   "source": [
    "data.tail()"
   ]
  },
  {
   "cell_type": "code",
   "execution_count": 367,
   "metadata": {},
   "outputs": [
    {
     "data": {
      "text/html": [
       "<div>\n",
       "<style scoped>\n",
       "    .dataframe tbody tr th:only-of-type {\n",
       "        vertical-align: middle;\n",
       "    }\n",
       "\n",
       "    .dataframe tbody tr th {\n",
       "        vertical-align: top;\n",
       "    }\n",
       "\n",
       "    .dataframe thead th {\n",
       "        text-align: right;\n",
       "    }\n",
       "</style>\n",
       "<table border=\"1\" class=\"dataframe\">\n",
       "  <thead>\n",
       "    <tr style=\"text-align: right;\">\n",
       "      <th></th>\n",
       "      <th>id</th>\n",
       "      <th>SimpleDescription</th>\n",
       "      <th>HousePrice</th>\n",
       "      <th>UnitPrice</th>\n",
       "      <th>HouseType</th>\n",
       "      <th>HouseDirection</th>\n",
       "      <th>HouseArea</th>\n",
       "      <th>HouseFloor</th>\n",
       "      <th>HouseAge</th>\n",
       "      <th>CommunityName</th>\n",
       "      <th>FollowersCnt</th>\n",
       "      <th>WatchersCnt</th>\n",
       "      <th>HouseTransType</th>\n",
       "      <th>HouseTransAge</th>\n",
       "    </tr>\n",
       "  </thead>\n",
       "  <tbody>\n",
       "    <tr>\n",
       "      <th>0</th>\n",
       "      <td>101102874856</td>\n",
       "      <td>小区中间位置，满五年商品房在京唯一房产</td>\n",
       "      <td>385</td>\n",
       "      <td>51873元/平米</td>\n",
       "      <td>2室1厅</td>\n",
       "      <td>南 北</td>\n",
       "      <td>74.22平米</td>\n",
       "      <td>高楼层/共6层</td>\n",
       "      <td>1995年建/板楼</td>\n",
       "      <td>华龙苑南里</td>\n",
       "      <td>55</td>\n",
       "      <td>51</td>\n",
       "      <td>商品房</td>\n",
       "      <td>满五年</td>\n",
       "    </tr>\n",
       "    <tr>\n",
       "      <th>1</th>\n",
       "      <td>101102828901</td>\n",
       "      <td>华龙苑南里一层南北通透两居室，主卧客厅双阳台</td>\n",
       "      <td>377</td>\n",
       "      <td>51126元/平米</td>\n",
       "      <td>2室1厅</td>\n",
       "      <td>南 北</td>\n",
       "      <td>73.74平米</td>\n",
       "      <td>底层/共6层</td>\n",
       "      <td>1995年建/板楼</td>\n",
       "      <td>华龙苑南里</td>\n",
       "      <td>74</td>\n",
       "      <td>46</td>\n",
       "      <td>商品房</td>\n",
       "      <td>满五年</td>\n",
       "    </tr>\n",
       "    <tr>\n",
       "      <th>2</th>\n",
       "      <td>101102882210</td>\n",
       "      <td>婚房装修，中间楼层，有地铁8号线和13号线</td>\n",
       "      <td>385</td>\n",
       "      <td>53592元/平米</td>\n",
       "      <td>2室1厅</td>\n",
       "      <td>南</td>\n",
       "      <td>71.84平米</td>\n",
       "      <td>中楼层/共5层</td>\n",
       "      <td>1998年建/板楼</td>\n",
       "      <td>蓝天园</td>\n",
       "      <td>31</td>\n",
       "      <td>5</td>\n",
       "      <td>商品房</td>\n",
       "      <td>满两年</td>\n",
       "    </tr>\n",
       "    <tr>\n",
       "      <th>3</th>\n",
       "      <td>101102879591</td>\n",
       "      <td>华龙苑南里三居室+三层+霍营地铁8、13号线</td>\n",
       "      <td>465</td>\n",
       "      <td>44678元/平米</td>\n",
       "      <td>3室1厅</td>\n",
       "      <td>东 南 北</td>\n",
       "      <td>104.08平米</td>\n",
       "      <td>中楼层/共6层</td>\n",
       "      <td>1999年建/板楼</td>\n",
       "      <td>华龙苑南里</td>\n",
       "      <td>17</td>\n",
       "      <td>13</td>\n",
       "      <td>商品房</td>\n",
       "      <td>满五年</td>\n",
       "    </tr>\n",
       "    <tr>\n",
       "      <th>4</th>\n",
       "      <td>101102874184</td>\n",
       "      <td>南北通透  客厅卧室各带个阳台  商品房满五年</td>\n",
       "      <td>320</td>\n",
       "      <td>63619元/平米</td>\n",
       "      <td>1室1厅</td>\n",
       "      <td>南 北</td>\n",
       "      <td>50.3平米</td>\n",
       "      <td>中楼层/共6层</td>\n",
       "      <td>1997年建/板楼</td>\n",
       "      <td>华龙苑南里</td>\n",
       "      <td>20</td>\n",
       "      <td>39</td>\n",
       "      <td>商品房</td>\n",
       "      <td>满五年</td>\n",
       "    </tr>\n",
       "  </tbody>\n",
       "</table>\n",
       "</div>"
      ],
      "text/plain": [
       "             id        SimpleDescription HousePrice  UnitPrice HouseType  \\\n",
       "0  101102874856      小区中间位置，满五年商品房在京唯一房产        385  51873元/平米      2室1厅   \n",
       "1  101102828901   华龙苑南里一层南北通透两居室，主卧客厅双阳台        377  51126元/平米      2室1厅   \n",
       "2  101102882210    婚房装修，中间楼层，有地铁8号线和13号线        385  53592元/平米      2室1厅   \n",
       "3  101102879591   华龙苑南里三居室+三层+霍营地铁8、13号线        465  44678元/平米      3室1厅   \n",
       "4  101102874184  南北通透  客厅卧室各带个阳台  商品房满五年        320  63619元/平米      1室1厅   \n",
       "\n",
       "  HouseDirection HouseArea HouseFloor   HouseAge CommunityName FollowersCnt  \\\n",
       "0            南 北   74.22平米    高楼层/共6层  1995年建/板楼         华龙苑南里           55   \n",
       "1            南 北   73.74平米     底层/共6层  1995年建/板楼         华龙苑南里           74   \n",
       "2              南   71.84平米    中楼层/共5层  1998年建/板楼           蓝天园           31   \n",
       "3          东 南 北  104.08平米    中楼层/共6层  1999年建/板楼         华龙苑南里           17   \n",
       "4            南 北    50.3平米    中楼层/共6层  1997年建/板楼         华龙苑南里           20   \n",
       "\n",
       "  WatchersCnt HouseTransType HouseTransAge  \n",
       "0          51            商品房           满五年  \n",
       "1          46            商品房           满五年  \n",
       "2           5            商品房           满两年  \n",
       "3          13            商品房           满五年  \n",
       "4          39            商品房           满五年  "
      ]
     },
     "execution_count": 367,
     "metadata": {},
     "output_type": "execute_result"
    }
   ],
   "source": [
    "data.head()"
   ]
  },
  {
   "cell_type": "markdown",
   "metadata": {},
   "source": [
    "### Assess\n",
    "- import the data in "
   ]
  },
  {
   "cell_type": "code",
   "execution_count": 393,
   "metadata": {},
   "outputs": [],
   "source": [
    "data = pd.read_csv('data.csv')"
   ]
  },
  {
   "cell_type": "code",
   "execution_count": 394,
   "metadata": {},
   "outputs": [
    {
     "data": {
      "text/html": [
       "<div>\n",
       "<style scoped>\n",
       "    .dataframe tbody tr th:only-of-type {\n",
       "        vertical-align: middle;\n",
       "    }\n",
       "\n",
       "    .dataframe tbody tr th {\n",
       "        vertical-align: top;\n",
       "    }\n",
       "\n",
       "    .dataframe thead th {\n",
       "        text-align: right;\n",
       "    }\n",
       "</style>\n",
       "<table border=\"1\" class=\"dataframe\">\n",
       "  <thead>\n",
       "    <tr style=\"text-align: right;\">\n",
       "      <th></th>\n",
       "      <th>id</th>\n",
       "      <th>SimpleDescription</th>\n",
       "      <th>HousePrice</th>\n",
       "      <th>UnitPrice</th>\n",
       "      <th>HouseType</th>\n",
       "      <th>HouseDirection</th>\n",
       "      <th>HouseArea</th>\n",
       "      <th>HouseFloor</th>\n",
       "      <th>HouseAge</th>\n",
       "      <th>CommunityName</th>\n",
       "      <th>FollowersCnt</th>\n",
       "      <th>WatchersCnt</th>\n",
       "      <th>HouseTransType</th>\n",
       "      <th>HouseTransAge</th>\n",
       "    </tr>\n",
       "  </thead>\n",
       "  <tbody>\n",
       "    <tr>\n",
       "      <th>0</th>\n",
       "      <td>101102874856</td>\n",
       "      <td>小区中间位置，满五年商品房在京唯一房产</td>\n",
       "      <td>385.0</td>\n",
       "      <td>51873元/平米</td>\n",
       "      <td>2室1厅</td>\n",
       "      <td>南 北</td>\n",
       "      <td>74.22平米</td>\n",
       "      <td>高楼层/共6层</td>\n",
       "      <td>1995年建/板楼</td>\n",
       "      <td>华龙苑南里</td>\n",
       "      <td>55.0</td>\n",
       "      <td>51.0</td>\n",
       "      <td>商品房</td>\n",
       "      <td>满五年</td>\n",
       "    </tr>\n",
       "    <tr>\n",
       "      <th>1</th>\n",
       "      <td>101102828901</td>\n",
       "      <td>华龙苑南里一层南北通透两居室，主卧客厅双阳台</td>\n",
       "      <td>377.0</td>\n",
       "      <td>51126元/平米</td>\n",
       "      <td>2室1厅</td>\n",
       "      <td>南 北</td>\n",
       "      <td>73.74平米</td>\n",
       "      <td>底层/共6层</td>\n",
       "      <td>1995年建/板楼</td>\n",
       "      <td>华龙苑南里</td>\n",
       "      <td>74.0</td>\n",
       "      <td>46.0</td>\n",
       "      <td>商品房</td>\n",
       "      <td>满五年</td>\n",
       "    </tr>\n",
       "    <tr>\n",
       "      <th>2</th>\n",
       "      <td>101102882210</td>\n",
       "      <td>婚房装修，中间楼层，有地铁8号线和13号线</td>\n",
       "      <td>385.0</td>\n",
       "      <td>53592元/平米</td>\n",
       "      <td>2室1厅</td>\n",
       "      <td>南</td>\n",
       "      <td>71.84平米</td>\n",
       "      <td>中楼层/共5层</td>\n",
       "      <td>1998年建/板楼</td>\n",
       "      <td>蓝天园</td>\n",
       "      <td>31.0</td>\n",
       "      <td>5.0</td>\n",
       "      <td>商品房</td>\n",
       "      <td>满两年</td>\n",
       "    </tr>\n",
       "    <tr>\n",
       "      <th>3</th>\n",
       "      <td>101102879591</td>\n",
       "      <td>华龙苑南里三居室+三层+霍营地铁8、13号线</td>\n",
       "      <td>465.0</td>\n",
       "      <td>44678元/平米</td>\n",
       "      <td>3室1厅</td>\n",
       "      <td>东 南 北</td>\n",
       "      <td>104.08平米</td>\n",
       "      <td>中楼层/共6层</td>\n",
       "      <td>1999年建/板楼</td>\n",
       "      <td>华龙苑南里</td>\n",
       "      <td>17.0</td>\n",
       "      <td>13.0</td>\n",
       "      <td>商品房</td>\n",
       "      <td>满五年</td>\n",
       "    </tr>\n",
       "    <tr>\n",
       "      <th>4</th>\n",
       "      <td>101102874184</td>\n",
       "      <td>南北通透  客厅卧室各带个阳台  商品房满五年</td>\n",
       "      <td>320.0</td>\n",
       "      <td>63619元/平米</td>\n",
       "      <td>1室1厅</td>\n",
       "      <td>南 北</td>\n",
       "      <td>50.3平米</td>\n",
       "      <td>中楼层/共6层</td>\n",
       "      <td>1997年建/板楼</td>\n",
       "      <td>华龙苑南里</td>\n",
       "      <td>20.0</td>\n",
       "      <td>39.0</td>\n",
       "      <td>商品房</td>\n",
       "      <td>满五年</td>\n",
       "    </tr>\n",
       "  </tbody>\n",
       "</table>\n",
       "</div>"
      ],
      "text/plain": [
       "             id        SimpleDescription  HousePrice  UnitPrice HouseType  \\\n",
       "0  101102874856      小区中间位置，满五年商品房在京唯一房产       385.0  51873元/平米      2室1厅   \n",
       "1  101102828901   华龙苑南里一层南北通透两居室，主卧客厅双阳台       377.0  51126元/平米      2室1厅   \n",
       "2  101102882210    婚房装修，中间楼层，有地铁8号线和13号线       385.0  53592元/平米      2室1厅   \n",
       "3  101102879591   华龙苑南里三居室+三层+霍营地铁8、13号线       465.0  44678元/平米      3室1厅   \n",
       "4  101102874184  南北通透  客厅卧室各带个阳台  商品房满五年       320.0  63619元/平米      1室1厅   \n",
       "\n",
       "  HouseDirection HouseArea HouseFloor   HouseAge CommunityName  FollowersCnt  \\\n",
       "0            南 北   74.22平米    高楼层/共6层  1995年建/板楼         华龙苑南里          55.0   \n",
       "1            南 北   73.74平米     底层/共6层  1995年建/板楼         华龙苑南里          74.0   \n",
       "2              南   71.84平米    中楼层/共5层  1998年建/板楼           蓝天园          31.0   \n",
       "3          东 南 北  104.08平米    中楼层/共6层  1999年建/板楼         华龙苑南里          17.0   \n",
       "4            南 北    50.3平米    中楼层/共6层  1997年建/板楼         华龙苑南里          20.0   \n",
       "\n",
       "   WatchersCnt HouseTransType HouseTransAge  \n",
       "0         51.0            商品房           满五年  \n",
       "1         46.0            商品房           满五年  \n",
       "2          5.0            商品房           满两年  \n",
       "3         13.0            商品房           满五年  \n",
       "4         39.0            商品房           满五年  "
      ]
     },
     "execution_count": 394,
     "metadata": {},
     "output_type": "execute_result"
    }
   ],
   "source": [
    "data.head()"
   ]
  },
  {
   "cell_type": "code",
   "execution_count": 405,
   "metadata": {},
   "outputs": [
    {
     "name": "stdout",
     "output_type": "stream",
     "text": [
      "<class 'pandas.core.frame.DataFrame'>\n",
      "RangeIndex: 269 entries, 0 to 268\n",
      "Data columns (total 14 columns):\n",
      "id                   269 non-null int64\n",
      "SimpleDescription    260 non-null object\n",
      "HousePrice           260 non-null float64\n",
      "UnitPrice            260 non-null object\n",
      "HouseType            260 non-null object\n",
      "HouseDirection       260 non-null object\n",
      "HouseArea            260 non-null object\n",
      "HouseFloor           260 non-null object\n",
      "HouseAge             260 non-null object\n",
      "CommunityName        260 non-null object\n",
      "FollowersCnt         260 non-null float64\n",
      "WatchersCnt          260 non-null float64\n",
      "HouseTransType       260 non-null object\n",
      "HouseTransAge        260 non-null object\n",
      "dtypes: float64(3), int64(1), object(10)\n",
      "memory usage: 29.5+ KB\n"
     ]
    }
   ],
   "source": [
    "data.info()"
   ]
  },
  {
   "cell_type": "code",
   "execution_count": 395,
   "metadata": {},
   "outputs": [
    {
     "data": {
      "text/plain": [
       "array(['2室1厅', '3室1厅', '1室1厅', '2室2厅', '3室2厅', nan, '5室2厅', '1室0厅',\n",
       "       '4室1厅', '4室2厅', '5室1厅', '1房间1卫', '2房间1卫', '3房间1卫', '车位'],\n",
       "      dtype=object)"
      ]
     },
     "execution_count": 395,
     "metadata": {},
     "output_type": "execute_result"
    }
   ],
   "source": [
    "data.HouseType.unique()"
   ]
  },
  {
   "cell_type": "code",
   "execution_count": 381,
   "metadata": {},
   "outputs": [
    {
     "data": {
      "text/plain": [
       "13"
      ]
     },
     "execution_count": 381,
     "metadata": {},
     "output_type": "execute_result"
    }
   ],
   "source": [
    "len(data[data.HouseType == '车位'])"
   ]
  },
  {
   "cell_type": "code",
   "execution_count": 382,
   "metadata": {},
   "outputs": [
    {
     "data": {
      "text/plain": [
       "array(['1995年建/板楼', '1998年建/板楼', '1999年建/板楼', '1997年建/板楼', '2000年建/板楼',\n",
       "       '1992年建/板楼', '1993年建/板楼', '1990年建/板楼', '2003年建/板楼', '2009年建/板楼',\n",
       "       '2007年建/板楼', '2005年建/塔楼', '2010年建/板塔结合', '2001年建/板楼', '2008年建/板楼',\n",
       "       '2004年建/板楼', '2005年建/板楼', '2013年建/板楼', '2002年建/板楼', '2002年建/板塔结合',\n",
       "       '2004年建/板塔结合', '2003年建/塔楼', '2006年建/板楼', '2009年建/板塔结合',\n",
       "       '2012年建/板楼', '2014年建/板塔结合', '2014年建/板楼', '2016年建/板塔结合', '未知年建/板楼',\n",
       "       '2014年建/塔楼', '2012年建', '2015年建'], dtype=object)"
      ]
     },
     "execution_count": 382,
     "metadata": {},
     "output_type": "execute_result"
    }
   ],
   "source": [
    "data.HouseAge.unique()"
   ]
  },
  {
   "cell_type": "code",
   "execution_count": 383,
   "metadata": {},
   "outputs": [
    {
     "data": {
      "text/plain": [
       "array(['高楼层/共6层', '底层/共6层', '中楼层/共5层', '中楼层/共6层', '顶层/共6层', '顶层/共5层',\n",
       "       '低楼层/共6层', '底层/共5层', '低楼层/共9层', '中楼层/共9层', '低楼层/共28层', '中楼层/共11层',\n",
       "       '中楼层/共10层', '高楼层/共28层', '中楼层/共28层', '底层/共10层', '顶层/共9层', '顶层/共8层',\n",
       "       '顶层/共10层', '高楼层/共10层', '高楼层/共15层', '低楼层/共18层', '中楼层/共32层',\n",
       "       '底层/共11层', '中楼层/共18层', '高楼层/共32层', '低楼层/共11层', '中楼层/共21层',\n",
       "       '高楼层/共11层', '底层/共18层', '高楼层/共18层', '低楼层/共19层', '中楼层/共15层',\n",
       "       '高楼层/共20层', '顶层/共16层', '底层/共20层', '中楼层/共16层', '低楼层/共32层',\n",
       "       '低楼层/共16层', '高楼层/共16层', '中楼层/共4层', '中楼层/共17层', '顶层/共19层',\n",
       "       '低楼层/共17层', '高楼层/共21层', '高楼层/共17层', '底层/共9层', '顶层/共4层', '底层/共16层',\n",
       "       '地下室'], dtype=object)"
      ]
     },
     "execution_count": 383,
     "metadata": {},
     "output_type": "execute_result"
    }
   ],
   "source": [
    "data.HouseFloor.unique()"
   ]
  },
  {
   "cell_type": "code",
   "execution_count": 384,
   "metadata": {},
   "outputs": [
    {
     "data": {
      "text/plain": [
       "array(['商品房', '私产', '已购公房', '一类经济适用房', '限价商品房'], dtype=object)"
      ]
     },
     "execution_count": 384,
     "metadata": {},
     "output_type": "execute_result"
    }
   ],
   "source": [
    "data.HouseTransType.unique()"
   ]
  },
  {
   "cell_type": "code",
   "execution_count": 385,
   "metadata": {},
   "outputs": [
    {
     "data": {
      "text/plain": [
       "array(['满五年', '满两年', '未满两年'], dtype=object)"
      ]
     },
     "execution_count": 385,
     "metadata": {},
     "output_type": "execute_result"
    }
   ],
   "source": [
    "data.HouseTransAge.unique()"
   ]
  },
  {
   "cell_type": "code",
   "execution_count": 417,
   "metadata": {},
   "outputs": [
    {
     "data": {
      "text/plain": [
       "array(['华龙苑南里', '蓝天园', '华龙苑中里', nan, '霍营小区', '紫金新干线', '龙锦苑东五区', '龙锦苑东四区',\n",
       "       '华龙苑北里', '龙锦苑东一区', '龙旗广场', '龙锦苑东二区', '龙锦苑东三区', '天鑫家园', '旺龙花园',\n",
       "       '紫金新干线二期', '慧龙居', '知本时代', '新康园', '龙跃苑东四区', '龙跃苑东五区', '龙跃苑三区',\n",
       "       '龙跃苑一区', '旗胜家园', '首开国风美唐一期', '轮胎厂宿舍', '富力桃园C区', '首开国风美唐二期',\n",
       "       '龙跃苑东二区', '枫丹丽舍', '首开国风美唐三期', '枫丹2号', '首开国风美唐综合楼', '金隅翡丽一期',\n",
       "       '专家国际花园'], dtype=object)"
      ]
     },
     "execution_count": 417,
     "metadata": {},
     "output_type": "execute_result"
    }
   ],
   "source": [
    "data.CommunityName.unique()"
   ]
  },
  {
   "cell_type": "markdown",
   "metadata": {},
   "source": [
    "### Clean\n",
    "- make the copy data_clean\n",
    "- drop the missing values rows\n",
    "- drop the '车位' information\n",
    "- extract the value for UnitPrice, HouseArea; drop the original columns\n",
    "- change Community to Category\n",
    "- save data_clean"
   ]
  },
  {
   "cell_type": "code",
   "execution_count": 424,
   "metadata": {},
   "outputs": [],
   "source": [
    "data_clean = data.copy()"
   ]
  },
  {
   "cell_type": "markdown",
   "metadata": {},
   "source": [
    "drop the missing values rows"
   ]
  },
  {
   "cell_type": "code",
   "execution_count": 425,
   "metadata": {},
   "outputs": [
    {
     "data": {
      "text/plain": [
       "260"
      ]
     },
     "execution_count": 425,
     "metadata": {},
     "output_type": "execute_result"
    }
   ],
   "source": [
    "data_clean = data_clean.dropna()\n",
    "len(data_clean)"
   ]
  },
  {
   "cell_type": "markdown",
   "metadata": {},
   "source": [
    "drop the '车位' information"
   ]
  },
  {
   "cell_type": "code",
   "execution_count": 426,
   "metadata": {},
   "outputs": [
    {
     "data": {
      "text/plain": [
       "247"
      ]
     },
     "execution_count": 426,
     "metadata": {},
     "output_type": "execute_result"
    }
   ],
   "source": [
    "chewei_index = data_clean[data_clean.HouseType == '车位'].index\n",
    "data_clean = data_clean.drop(chewei_index)\n",
    "len(data_clean)"
   ]
  },
  {
   "cell_type": "markdown",
   "metadata": {},
   "source": [
    "extract the value for UnitPrice, HouseArea"
   ]
  },
  {
   "cell_type": "code",
   "execution_count": 427,
   "metadata": {},
   "outputs": [
    {
     "name": "stderr",
     "output_type": "stream",
     "text": [
      "/usr/local/lib/python3.6/site-packages/ipykernel_launcher.py:1: FutureWarning: currently extract(expand=None) means expand=False (return Index/Series/DataFrame) but in a future version of pandas this will be changed to expand=True (return DataFrame)\n",
      "  \"\"\"Entry point for launching an IPython kernel.\n",
      "/usr/local/lib/python3.6/site-packages/ipykernel_launcher.py:2: FutureWarning: currently extract(expand=None) means expand=False (return Index/Series/DataFrame) but in a future version of pandas this will be changed to expand=True (return DataFrame)\n",
      "  \n"
     ]
    },
    {
     "data": {
      "text/html": [
       "<div>\n",
       "<style scoped>\n",
       "    .dataframe tbody tr th:only-of-type {\n",
       "        vertical-align: middle;\n",
       "    }\n",
       "\n",
       "    .dataframe tbody tr th {\n",
       "        vertical-align: top;\n",
       "    }\n",
       "\n",
       "    .dataframe thead th {\n",
       "        text-align: right;\n",
       "    }\n",
       "</style>\n",
       "<table border=\"1\" class=\"dataframe\">\n",
       "  <thead>\n",
       "    <tr style=\"text-align: right;\">\n",
       "      <th></th>\n",
       "      <th>id</th>\n",
       "      <th>SimpleDescription</th>\n",
       "      <th>HousePrice</th>\n",
       "      <th>UnitPrice</th>\n",
       "      <th>HouseType</th>\n",
       "      <th>HouseDirection</th>\n",
       "      <th>HouseArea</th>\n",
       "      <th>HouseFloor</th>\n",
       "      <th>HouseAge</th>\n",
       "      <th>CommunityName</th>\n",
       "      <th>FollowersCnt</th>\n",
       "      <th>WatchersCnt</th>\n",
       "      <th>HouseTransType</th>\n",
       "      <th>HouseTransAge</th>\n",
       "      <th>UnitPriceV</th>\n",
       "      <th>HouseAreaV</th>\n",
       "    </tr>\n",
       "  </thead>\n",
       "  <tbody>\n",
       "    <tr>\n",
       "      <th>0</th>\n",
       "      <td>101102874856</td>\n",
       "      <td>小区中间位置，满五年商品房在京唯一房产</td>\n",
       "      <td>385.0</td>\n",
       "      <td>51873元/平米</td>\n",
       "      <td>2室1厅</td>\n",
       "      <td>南 北</td>\n",
       "      <td>74.22平米</td>\n",
       "      <td>高楼层/共6层</td>\n",
       "      <td>1995年建/板楼</td>\n",
       "      <td>华龙苑南里</td>\n",
       "      <td>55.0</td>\n",
       "      <td>51.0</td>\n",
       "      <td>商品房</td>\n",
       "      <td>满五年</td>\n",
       "      <td>51873.0</td>\n",
       "      <td>74.22</td>\n",
       "    </tr>\n",
       "  </tbody>\n",
       "</table>\n",
       "</div>"
      ],
      "text/plain": [
       "             id    SimpleDescription  HousePrice  UnitPrice HouseType  \\\n",
       "0  101102874856  小区中间位置，满五年商品房在京唯一房产       385.0  51873元/平米      2室1厅   \n",
       "\n",
       "  HouseDirection HouseArea HouseFloor   HouseAge CommunityName  FollowersCnt  \\\n",
       "0            南 北   74.22平米    高楼层/共6层  1995年建/板楼         华龙苑南里          55.0   \n",
       "\n",
       "   WatchersCnt HouseTransType HouseTransAge  UnitPriceV  HouseAreaV  \n",
       "0         51.0            商品房           满五年     51873.0       74.22  "
      ]
     },
     "execution_count": 427,
     "metadata": {},
     "output_type": "execute_result"
    }
   ],
   "source": [
    "data_clean['UnitPriceV'] = data_clean.UnitPrice.str.extract('(.*)元')\n",
    "data_clean['HouseAreaV'] = data_clean.HouseArea.str.extract('(.*)平')\n",
    "data_clean['UnitPriceV'] = data_clean['UnitPriceV'].astype(float)\n",
    "data_clean['HouseAreaV'] = data_clean['HouseAreaV'].astype(float)\n",
    "data_clean.head(1)"
   ]
  },
  {
   "cell_type": "code",
   "execution_count": 428,
   "metadata": {},
   "outputs": [
    {
     "data": {
      "text/html": [
       "<div>\n",
       "<style scoped>\n",
       "    .dataframe tbody tr th:only-of-type {\n",
       "        vertical-align: middle;\n",
       "    }\n",
       "\n",
       "    .dataframe tbody tr th {\n",
       "        vertical-align: top;\n",
       "    }\n",
       "\n",
       "    .dataframe thead th {\n",
       "        text-align: right;\n",
       "    }\n",
       "</style>\n",
       "<table border=\"1\" class=\"dataframe\">\n",
       "  <thead>\n",
       "    <tr style=\"text-align: right;\">\n",
       "      <th></th>\n",
       "      <th>id</th>\n",
       "      <th>SimpleDescription</th>\n",
       "      <th>HousePrice</th>\n",
       "      <th>HouseType</th>\n",
       "      <th>HouseDirection</th>\n",
       "      <th>HouseFloor</th>\n",
       "      <th>HouseAge</th>\n",
       "      <th>CommunityName</th>\n",
       "      <th>FollowersCnt</th>\n",
       "      <th>WatchersCnt</th>\n",
       "      <th>HouseTransType</th>\n",
       "      <th>HouseTransAge</th>\n",
       "      <th>UnitPriceV</th>\n",
       "      <th>HouseAreaV</th>\n",
       "    </tr>\n",
       "  </thead>\n",
       "  <tbody>\n",
       "    <tr>\n",
       "      <th>0</th>\n",
       "      <td>101102874856</td>\n",
       "      <td>小区中间位置，满五年商品房在京唯一房产</td>\n",
       "      <td>385.0</td>\n",
       "      <td>2室1厅</td>\n",
       "      <td>南 北</td>\n",
       "      <td>高楼层/共6层</td>\n",
       "      <td>1995年建/板楼</td>\n",
       "      <td>华龙苑南里</td>\n",
       "      <td>55.0</td>\n",
       "      <td>51.0</td>\n",
       "      <td>商品房</td>\n",
       "      <td>满五年</td>\n",
       "      <td>51873.0</td>\n",
       "      <td>74.22</td>\n",
       "    </tr>\n",
       "    <tr>\n",
       "      <th>1</th>\n",
       "      <td>101102828901</td>\n",
       "      <td>华龙苑南里一层南北通透两居室，主卧客厅双阳台</td>\n",
       "      <td>377.0</td>\n",
       "      <td>2室1厅</td>\n",
       "      <td>南 北</td>\n",
       "      <td>底层/共6层</td>\n",
       "      <td>1995年建/板楼</td>\n",
       "      <td>华龙苑南里</td>\n",
       "      <td>74.0</td>\n",
       "      <td>46.0</td>\n",
       "      <td>商品房</td>\n",
       "      <td>满五年</td>\n",
       "      <td>51126.0</td>\n",
       "      <td>73.74</td>\n",
       "    </tr>\n",
       "    <tr>\n",
       "      <th>2</th>\n",
       "      <td>101102882210</td>\n",
       "      <td>婚房装修，中间楼层，有地铁8号线和13号线</td>\n",
       "      <td>385.0</td>\n",
       "      <td>2室1厅</td>\n",
       "      <td>南</td>\n",
       "      <td>中楼层/共5层</td>\n",
       "      <td>1998年建/板楼</td>\n",
       "      <td>蓝天园</td>\n",
       "      <td>31.0</td>\n",
       "      <td>5.0</td>\n",
       "      <td>商品房</td>\n",
       "      <td>满两年</td>\n",
       "      <td>53592.0</td>\n",
       "      <td>71.84</td>\n",
       "    </tr>\n",
       "    <tr>\n",
       "      <th>3</th>\n",
       "      <td>101102879591</td>\n",
       "      <td>华龙苑南里三居室+三层+霍营地铁8、13号线</td>\n",
       "      <td>465.0</td>\n",
       "      <td>3室1厅</td>\n",
       "      <td>东 南 北</td>\n",
       "      <td>中楼层/共6层</td>\n",
       "      <td>1999年建/板楼</td>\n",
       "      <td>华龙苑南里</td>\n",
       "      <td>17.0</td>\n",
       "      <td>13.0</td>\n",
       "      <td>商品房</td>\n",
       "      <td>满五年</td>\n",
       "      <td>44678.0</td>\n",
       "      <td>104.08</td>\n",
       "    </tr>\n",
       "    <tr>\n",
       "      <th>4</th>\n",
       "      <td>101102874184</td>\n",
       "      <td>南北通透  客厅卧室各带个阳台  商品房满五年</td>\n",
       "      <td>320.0</td>\n",
       "      <td>1室1厅</td>\n",
       "      <td>南 北</td>\n",
       "      <td>中楼层/共6层</td>\n",
       "      <td>1997年建/板楼</td>\n",
       "      <td>华龙苑南里</td>\n",
       "      <td>20.0</td>\n",
       "      <td>39.0</td>\n",
       "      <td>商品房</td>\n",
       "      <td>满五年</td>\n",
       "      <td>63619.0</td>\n",
       "      <td>50.30</td>\n",
       "    </tr>\n",
       "  </tbody>\n",
       "</table>\n",
       "</div>"
      ],
      "text/plain": [
       "             id        SimpleDescription  HousePrice HouseType HouseDirection  \\\n",
       "0  101102874856      小区中间位置，满五年商品房在京唯一房产       385.0      2室1厅            南 北   \n",
       "1  101102828901   华龙苑南里一层南北通透两居室，主卧客厅双阳台       377.0      2室1厅            南 北   \n",
       "2  101102882210    婚房装修，中间楼层，有地铁8号线和13号线       385.0      2室1厅              南   \n",
       "3  101102879591   华龙苑南里三居室+三层+霍营地铁8、13号线       465.0      3室1厅          东 南 北   \n",
       "4  101102874184  南北通透  客厅卧室各带个阳台  商品房满五年       320.0      1室1厅            南 北   \n",
       "\n",
       "  HouseFloor   HouseAge CommunityName  FollowersCnt  WatchersCnt  \\\n",
       "0    高楼层/共6层  1995年建/板楼         华龙苑南里          55.0         51.0   \n",
       "1     底层/共6层  1995年建/板楼         华龙苑南里          74.0         46.0   \n",
       "2    中楼层/共5层  1998年建/板楼           蓝天园          31.0          5.0   \n",
       "3    中楼层/共6层  1999年建/板楼         华龙苑南里          17.0         13.0   \n",
       "4    中楼层/共6层  1997年建/板楼         华龙苑南里          20.0         39.0   \n",
       "\n",
       "  HouseTransType HouseTransAge  UnitPriceV  HouseAreaV  \n",
       "0            商品房           满五年     51873.0       74.22  \n",
       "1            商品房           满五年     51126.0       73.74  \n",
       "2            商品房           满两年     53592.0       71.84  \n",
       "3            商品房           满五年     44678.0      104.08  \n",
       "4            商品房           满五年     63619.0       50.30  "
      ]
     },
     "execution_count": 428,
     "metadata": {},
     "output_type": "execute_result"
    }
   ],
   "source": [
    "data_clean = data_clean.drop(['HouseArea', 'UnitPrice'], axis=1)\n",
    "data_clean.head()"
   ]
  },
  {
   "cell_type": "markdown",
   "metadata": {},
   "source": [
    "change Community to Category"
   ]
  },
  {
   "cell_type": "code",
   "execution_count": 446,
   "metadata": {},
   "outputs": [],
   "source": [
    "data_clean['CommunityName'] = data_clean['CommunityName'].astype('category')"
   ]
  },
  {
   "cell_type": "code",
   "execution_count": 447,
   "metadata": {},
   "outputs": [
    {
     "name": "stdout",
     "output_type": "stream",
     "text": [
      "<class 'pandas.core.frame.DataFrame'>\n",
      "Int64Index: 247 entries, 0 to 265\n",
      "Data columns (total 15 columns):\n",
      "id                   247 non-null int64\n",
      "SimpleDescription    247 non-null object\n",
      "HousePrice           247 non-null float64\n",
      "HouseType            247 non-null object\n",
      "HouseDirection       247 non-null object\n",
      "HouseFloor           247 non-null object\n",
      "HouseAge             247 non-null object\n",
      "CommunityName        247 non-null category\n",
      "FollowersCnt         247 non-null float64\n",
      "WatchersCnt          247 non-null float64\n",
      "HouseTransType       247 non-null object\n",
      "HouseTransAge        247 non-null object\n",
      "UnitPriceV           247 non-null float64\n",
      "HouseAreaV           247 non-null float64\n",
      "test                 247 non-null object\n",
      "dtypes: category(1), float64(5), int64(1), object(8)\n",
      "memory usage: 40.7+ KB\n"
     ]
    }
   ],
   "source": [
    "data_clean.info()"
   ]
  },
  {
   "cell_type": "markdown",
   "metadata": {},
   "source": [
    "save "
   ]
  },
  {
   "cell_type": "code",
   "execution_count": 448,
   "metadata": {},
   "outputs": [],
   "source": [
    "data_clean.to_csv('data_clean.csv', encoding=\"utf_8_sig\", index=False)"
   ]
  },
  {
   "cell_type": "markdown",
   "metadata": {},
   "source": [
    "### Explore"
   ]
  },
  {
   "cell_type": "code",
   "execution_count": 453,
   "metadata": {},
   "outputs": [
    {
     "data": {
      "text/plain": [
       "<matplotlib.axes._subplots.AxesSubplot at 0x114214748>"
      ]
     },
     "execution_count": 453,
     "metadata": {},
     "output_type": "execute_result"
    },
    {
     "data": {
      "image/png": "[encoded data removed]",
      "text/plain": [
       "<matplotlib.figure.Figure at 0x113e16d30>"
      ]
     },
     "metadata": {},
     "output_type": "display_data"
    }
   ],
   "source": [
    "fig = plt.figure(figsize=(10,5))\n",
    "sns.countplot(y = data_clean.CommunityName)"
   ]
  },
  {
   "cell_type": "code",
   "execution_count": 443,
   "metadata": {},
   "outputs": [
    {
     "data": {
      "text/plain": [
       "0       高楼层/共6层\n",
       "1        底层/共6层\n",
       "2       中楼层/共5层\n",
       "3       中楼层/共6层\n",
       "4       中楼层/共6层\n",
       "5        顶层/共6层\n",
       "6       中楼层/共6层\n",
       "7       高楼层/共6层\n",
       "8        底层/共6层\n",
       "9        顶层/共6层\n",
       "10       顶层/共6层\n",
       "11       顶层/共5层\n",
       "12       底层/共6层\n",
       "13       底层/共6层\n",
       "14      中楼层/共6层\n",
       "15      低楼层/共6层\n",
       "16      中楼层/共6层\n",
       "17      中楼层/共6层\n",
       "18       底层/共5层\n",
       "19       顶层/共6层\n",
       "20       顶层/共6层\n",
       "21       顶层/共5层\n",
       "22       底层/共6层\n",
       "23       顶层/共6层\n",
       "24      高楼层/共6层\n",
       "25       底层/共6层\n",
       "26      低楼层/共6层\n",
       "27       顶层/共6层\n",
       "28      高楼层/共6层\n",
       "30      中楼层/共6层\n",
       "         ...   \n",
       "223    高楼层/共17层\n",
       "224      顶层/共4层\n",
       "225     高楼层/共6层\n",
       "226     底层/共16层\n",
       "227    中楼层/共17层\n",
       "228    中楼层/共21层\n",
       "229     中楼层/共5层\n",
       "230    中楼层/共17层\n",
       "231    高楼层/共17层\n",
       "232    中楼层/共17层\n",
       "233     中楼层/共6层\n",
       "234     底层/共18层\n",
       "235    高楼层/共17层\n",
       "236      顶层/共6层\n",
       "237    中楼层/共17层\n",
       "238    中楼层/共17层\n",
       "239    中楼层/共17层\n",
       "241      顶层/共6层\n",
       "244      顶层/共5层\n",
       "245      顶层/共6层\n",
       "246     中楼层/共5层\n",
       "247     顶层/共16层\n",
       "248     中楼层/共6层\n",
       "249    高楼层/共17层\n",
       "250    高楼层/共17层\n",
       "252     高楼层/共6层\n",
       "258    低楼层/共28层\n",
       "260    中楼层/共28层\n",
       "264     高楼层/共6层\n",
       "265      顶层/共6层\n",
       "Name: HouseFloor, Length: 247, dtype: object"
      ]
     },
     "execution_count": 443,
     "metadata": {},
     "output_type": "execute_result"
    }
   ],
   "source": [
    "data_clean.HouseFloor"
   ]
  },
  {
   "cell_type": "code",
   "execution_count": null,
   "metadata": {},
   "outputs": [],
   "source": []
  }
 ],
 "metadata": {
  "kernelspec": {
   "display_name": "Python 3",
   "language": "python",
   "name": "python3"
  },
  "language_info": {
   "codemirror_mode": {
    "name": "ipython",
    "version": 3
   },
   "file_extension": ".py",
   "mimetype": "text/x-python",
   "name": "python",
   "nbconvert_exporter": "python",
   "pygments_lexer": "ipython3",
   "version": "3.6.5"
  }
 },
 "nbformat": 4,
 "nbformat_minor": 2
}
